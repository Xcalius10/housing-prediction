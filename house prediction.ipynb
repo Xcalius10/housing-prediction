{
 "cells": [
  {
   "cell_type": "code",
   "execution_count": null,
   "metadata": {
    "_cell_guid": "b1076dfc-b9ad-4769-8c92-a6c4dae69d19",
    "_uuid": "8f2839f25d086af736a60e9eeb907d3b93b6e0e5",
    "execution": {
     "iopub.execute_input": "2023-01-08T14:40:38.749665Z",
     "iopub.status.busy": "2023-01-08T14:40:38.749116Z",
     "iopub.status.idle": "2023-01-08T14:40:38.962459Z",
     "shell.execute_reply": "2023-01-08T14:40:38.961196Z",
     "shell.execute_reply.started": "2023-01-08T14:40:38.749618Z"
    },
    "trusted": true
   },
   "outputs": [],
   "source": [
    "# This Python 3 environment comes with many helpful analytics libraries installed\n",
    "# It is defined by the kaggle/python Docker image: https://github.com/kaggle/docker-python\n",
    "# For example, here's several helpful packages to load\n",
    "\n",
    "import numpy as np # linear algebra\n",
    "import pandas as pd # data processing, CSV file I/O (e.g. pd.read_csv)\n",
    "%matplotlib inline\n",
    "import seaborn as sns\n",
    "import matplotlib.pyplot as plt\n",
    "\n",
    "import warnings \n",
    "warnings.filterwarnings(action= 'ignore')\n",
    "\n",
    "\n",
    "# Input data files are available in the read-only \"../input/\" directory\n",
    "# For example, running this (by clicking run or pressing Shift+Enter) will list all files under the input directory\n",
    "\n",
    "import os\n",
    "for dirname, _, filenames in os.walk('/kaggle/input'):\n",
    "    for filename in filenames:\n",
    "        print(os.path.join(dirname, filename))\n",
    "\n",
    "# You can write up to 20GB to the current directory (/kaggle/working/) that gets preserved as output when you create a version using \"Save & Run All\" \n",
    "# You can also write temporary files to /kaggle/temp/, but they won't be saved outside of the current session"
   ]
  },
  {
   "cell_type": "code",
   "execution_count": null,
   "metadata": {
    "execution": {
     "iopub.execute_input": "2023-01-08T14:40:38.966312Z",
     "iopub.status.busy": "2023-01-08T14:40:38.965456Z",
     "iopub.status.idle": "2023-01-08T14:40:39.060111Z",
     "shell.execute_reply": "2023-01-08T14:40:39.058745Z",
     "shell.execute_reply.started": "2023-01-08T14:40:38.966259Z"
    },
    "trusted": true
   },
   "outputs": [],
   "source": [
    "df=pd.read_csv('/kaggle/input/house-prices-advanced-regression-techniques/train.csv')\n",
    "df.head(10)"
   ]
  },
  {
   "cell_type": "code",
   "execution_count": null,
   "metadata": {
    "execution": {
     "iopub.execute_input": "2023-01-08T14:40:39.06382Z",
     "iopub.status.busy": "2023-01-08T14:40:39.061828Z",
     "iopub.status.idle": "2023-01-08T14:40:39.073008Z",
     "shell.execute_reply": "2023-01-08T14:40:39.07129Z",
     "shell.execute_reply.started": "2023-01-08T14:40:39.063766Z"
    },
    "trusted": true
   },
   "outputs": [],
   "source": [
    "df.shape"
   ]
  },
  {
   "cell_type": "code",
   "execution_count": null,
   "metadata": {
    "execution": {
     "iopub.execute_input": "2023-01-08T14:40:39.077978Z",
     "iopub.status.busy": "2023-01-08T14:40:39.077507Z",
     "iopub.status.idle": "2023-01-08T14:40:39.115385Z",
     "shell.execute_reply": "2023-01-08T14:40:39.113923Z",
     "shell.execute_reply.started": "2023-01-08T14:40:39.07794Z"
    },
    "trusted": true
   },
   "outputs": [],
   "source": [
    "df.info()"
   ]
  },
  {
   "cell_type": "markdown",
   "metadata": {},
   "source": [
    "### Realtion between Missing values and SalesPrice"
   ]
  },
  {
   "cell_type": "code",
   "execution_count": null,
   "metadata": {
    "execution": {
     "iopub.execute_input": "2023-01-08T14:40:39.117945Z",
     "iopub.status.busy": "2023-01-08T14:40:39.117461Z",
     "iopub.status.idle": "2023-01-08T14:40:39.159306Z",
     "shell.execute_reply": "2023-01-08T14:40:39.158043Z",
     "shell.execute_reply.started": "2023-01-08T14:40:39.117901Z"
    },
    "trusted": true
   },
   "outputs": [],
   "source": [
    "features_with_na = [features for features in df.columns if df[features].isnull().sum()>0]\n",
    "print(len(features_with_na))\n",
    "\n",
    "for feature in features_with_na:\n",
    "    print(feature,'-', np.round(df[feature].isnull().mean(),3)*100, '%')"
   ]
  },
  {
   "cell_type": "code",
   "execution_count": null,
   "metadata": {
    "execution": {
     "iopub.execute_input": "2023-01-08T14:40:39.162895Z",
     "iopub.status.busy": "2023-01-08T14:40:39.161806Z",
     "iopub.status.idle": "2023-01-08T14:40:39.196549Z",
     "shell.execute_reply": "2023-01-08T14:40:39.195595Z",
     "shell.execute_reply.started": "2023-01-08T14:40:39.162853Z"
    },
    "trusted": true
   },
   "outputs": [],
   "source": [
    "imp_features = []\n",
    "for features in df.columns:\n",
    "    if df[features].isnull().mean()>0.06:\n",
    "        imp_features.append(features)\n"
   ]
  },
  {
   "cell_type": "markdown",
   "metadata": {},
   "source": [
    "### Relation b/w Nan and non_Nan values.\n",
    "* we take median instead of mean as we know this dataset contains outliers"
   ]
  },
  {
   "cell_type": "code",
   "execution_count": null,
   "metadata": {
    "execution": {
     "iopub.execute_input": "2023-01-08T14:40:39.198551Z",
     "iopub.status.busy": "2023-01-08T14:40:39.198017Z",
     "iopub.status.idle": "2023-01-08T14:40:40.437459Z",
     "shell.execute_reply": "2023-01-08T14:40:40.436334Z",
     "shell.execute_reply.started": "2023-01-08T14:40:39.198519Z"
    },
    "trusted": true
   },
   "outputs": [],
   "source": [
    "for feature in imp_features:\n",
    "    df1=df.copy()\n",
    "    df1[feature] = np.where(df1[feature].isnull(),1,0)\n",
    "    \n",
    "    #  plot mean SalesPrice for missing data\n",
    "    df1.groupby(feature)['SalePrice'].median().plot.bar()\n",
    "    plt.title(feature)\n",
    "    plt.show()\n",
    "\n",
    "# for feature in imp_features:\n",
    "#     df1=df.copy()\n",
    "#     df1[feature] = np.where(df1[feature].isnull(),1,0)\n",
    "    \n",
    "#     fig, (ax_before, ax_after) = plt.subplots(1, 2, figsize=(10, 5))\n",
    "#     df1.groupby(feature)['SalePrice'].median().plot.bar(ax=ax_before)\n",
    "#     df1.groupby(feature)['SalePrice'].mean().plot.bar(ax=ax_after)\n",
    "#     ax_before.set(title=feature+'_median')\n",
    "#     ax_after.set(title=feature+'_mean')\n",
    "#     plt.show()"
   ]
  },
  {
   "cell_type": "markdown",
   "metadata": {},
   "source": [
    "#### Numerical Variables"
   ]
  },
  {
   "cell_type": "code",
   "execution_count": null,
   "metadata": {
    "execution": {
     "iopub.execute_input": "2023-01-08T14:40:40.439489Z",
     "iopub.status.busy": "2023-01-08T14:40:40.439081Z",
     "iopub.status.idle": "2023-01-08T14:40:40.44966Z",
     "shell.execute_reply": "2023-01-08T14:40:40.448623Z",
     "shell.execute_reply.started": "2023-01-08T14:40:40.439435Z"
    },
    "trusted": true
   },
   "outputs": [],
   "source": [
    "df.dtypes.value_counts()"
   ]
  },
  {
   "cell_type": "code",
   "execution_count": null,
   "metadata": {
    "execution": {
     "iopub.execute_input": "2023-01-08T14:40:40.452128Z",
     "iopub.status.busy": "2023-01-08T14:40:40.451111Z",
     "iopub.status.idle": "2023-01-08T14:40:40.467774Z",
     "shell.execute_reply": "2023-01-08T14:40:40.466156Z",
     "shell.execute_reply.started": "2023-01-08T14:40:40.452082Z"
    },
    "trusted": true
   },
   "outputs": [],
   "source": [
    "num_features = [features for features in df.columns if df[features].dtypes !='O']\n",
    "print('numerical varable: ', len(num_features) )"
   ]
  },
  {
   "cell_type": "code",
   "execution_count": null,
   "metadata": {
    "execution": {
     "iopub.execute_input": "2023-01-08T14:40:40.473451Z",
     "iopub.status.busy": "2023-01-08T14:40:40.473056Z",
     "iopub.status.idle": "2023-01-08T14:40:40.484326Z",
     "shell.execute_reply": "2023-01-08T14:40:40.482326Z",
     "shell.execute_reply.started": "2023-01-08T14:40:40.473419Z"
    },
    "trusted": true
   },
   "outputs": [],
   "source": [
    "yr_features = [feature for feature in num_features if 'Year'in feature or 'Yr' in feature]\n",
    "yr_features"
   ]
  },
  {
   "cell_type": "markdown",
   "metadata": {},
   "source": [
    "#### Visulaize different Years featutres"
   ]
  },
  {
   "cell_type": "code",
   "execution_count": null,
   "metadata": {
    "execution": {
     "iopub.execute_input": "2023-01-08T14:40:40.486738Z",
     "iopub.status.busy": "2023-01-08T14:40:40.486143Z",
     "iopub.status.idle": "2023-01-08T14:40:40.746336Z",
     "shell.execute_reply": "2023-01-08T14:40:40.745095Z",
     "shell.execute_reply.started": "2023-01-08T14:40:40.486686Z"
    },
    "trusted": true
   },
   "outputs": [],
   "source": [
    "df.groupby('YrSold')['SalePrice'].median().plot()\n",
    "plt.xlabel('Yr_Sold')\n",
    "plt.ylabel('Sale_Price')\n",
    "plt.title('yr_sold vs Sale_price')\n"
   ]
  },
  {
   "cell_type": "markdown",
   "metadata": {},
   "source": [
    "* House_price is `decreasing` as year is increasing; that's wierd.\n",
    "* let's see other year *features*"
   ]
  },
  {
   "cell_type": "code",
   "execution_count": null,
   "metadata": {
    "execution": {
     "iopub.execute_input": "2023-01-08T14:40:40.748164Z",
     "iopub.status.busy": "2023-01-08T14:40:40.747816Z",
     "iopub.status.idle": "2023-01-08T14:40:41.394426Z",
     "shell.execute_reply": "2023-01-08T14:40:41.39308Z",
     "shell.execute_reply.started": "2023-01-08T14:40:40.748132Z"
    },
    "trusted": true
   },
   "outputs": [],
   "source": [
    "for feature in yr_features:\n",
    "    if feature != 'YrSold':\n",
    "        df1=df.copy()\n",
    "\n",
    "        # We calculate no. of yrs of variable before year_sold    \n",
    "        df1[feature] = df1['YrSold'] - df1[feature] \n",
    "        plt.scatter(df1[feature],df1['SalePrice'])\n",
    "#         plt.xlabel(feature)\n",
    "#         plt.ylabel('SalePrice')\n",
    "        plt.show()\n"
   ]
  },
  {
   "cell_type": "markdown",
   "metadata": {},
   "source": [
    "### Differentiating numerical variables into discrete variables and continuous variables"
   ]
  },
  {
   "cell_type": "code",
   "execution_count": null,
   "metadata": {
    "execution": {
     "iopub.execute_input": "2023-01-08T14:40:41.396232Z",
     "iopub.status.busy": "2023-01-08T14:40:41.395879Z",
     "iopub.status.idle": "2023-01-08T14:40:41.417572Z",
     "shell.execute_reply": "2023-01-08T14:40:41.416022Z",
     "shell.execute_reply.started": "2023-01-08T14:40:41.396201Z"
    },
    "trusted": true
   },
   "outputs": [],
   "source": [
    "discrete_features = [feature for feature in num_features if len(df[feature].unique())<25 and feature not in yr_features+['Id']]\n",
    "continuous_features = [feature for feature in num_features if len(df[feature].unique())>=25 and feature not in yr_features+['Id']]\n",
    "\n",
    "print('Total numerical variables: ', len(num_features))\n",
    "print('discrete variables: ', len(discrete_features))\n",
    "print('continuous variables:', len(continuous_features))\n",
    "print('year features: ', len(yr_features))"
   ]
  },
  {
   "cell_type": "markdown",
   "metadata": {},
   "source": [
    "#### see relation between discrete features and SalePrice"
   ]
  },
  {
   "cell_type": "code",
   "execution_count": null,
   "metadata": {
    "execution": {
     "iopub.execute_input": "2023-01-08T14:40:41.41991Z",
     "iopub.status.busy": "2023-01-08T14:40:41.419377Z",
     "iopub.status.idle": "2023-01-08T14:40:41.430235Z",
     "shell.execute_reply": "2023-01-08T14:40:41.429044Z",
     "shell.execute_reply.started": "2023-01-08T14:40:41.419858Z"
    },
    "trusted": true
   },
   "outputs": [],
   "source": [
    "list(enumerate(discrete_features))"
   ]
  },
  {
   "cell_type": "code",
   "execution_count": null,
   "metadata": {
    "execution": {
     "iopub.execute_input": "2023-01-08T14:40:41.432815Z",
     "iopub.status.busy": "2023-01-08T14:40:41.432422Z",
     "iopub.status.idle": "2023-01-08T14:40:45.302322Z",
     "shell.execute_reply": "2023-01-08T14:40:45.301043Z",
     "shell.execute_reply.started": "2023-01-08T14:40:41.43278Z"
    },
    "trusted": true
   },
   "outputs": [],
   "source": [
    "for index,feature in enumerate(discrete_features):\n",
    "    df1=df.copy()\n",
    "#     plt.subplots(row,cols,position(starts from 1))\n",
    "\n",
    "    df1.groupby(feature)['SalePrice'].median().plot.bar()\n",
    "#     plt.xlabel(feature)\n",
    "#     plt.ylabel('Sales_Price')\n",
    "    plt.title(feature)\n",
    "    plt.show()"
   ]
  },
  {
   "cell_type": "markdown",
   "metadata": {},
   "source": [
    "* We can see there are some features that are related with Sales Price"
   ]
  },
  {
   "cell_type": "code",
   "execution_count": null,
   "metadata": {
    "execution": {
     "iopub.execute_input": "2023-01-08T14:40:45.3045Z",
     "iopub.status.busy": "2023-01-08T14:40:45.303832Z",
     "iopub.status.idle": "2023-01-08T14:40:50.831819Z",
     "shell.execute_reply": "2023-01-08T14:40:50.830933Z",
     "shell.execute_reply.started": "2023-01-08T14:40:45.304447Z"
    },
    "trusted": true
   },
   "outputs": [],
   "source": [
    "for feature in continuous_features:\n",
    "    df1=df.copy()\n",
    "    sns.displot(df[feature],bins=25)\n",
    "#     plt.xlabel(feature)\n",
    "#     plt.ylabel(\"Count\")\n",
    "    plt.title(feature)\n",
    "    plt.show()"
   ]
  },
  {
   "cell_type": "markdown",
   "metadata": {},
   "source": [
    "* Majority of continuous features does not possess gausian distribution. Let's apply some transformation on that features."
   ]
  },
  {
   "cell_type": "markdown",
   "metadata": {},
   "source": [
    "## Transforming Variables "
   ]
  },
  {
   "cell_type": "markdown",
   "metadata": {
    "execution": {
     "iopub.execute_input": "2022-12-26T19:03:07.365856Z",
     "iopub.status.busy": "2022-12-26T19:03:07.365233Z",
     "iopub.status.idle": "2022-12-26T19:03:07.377467Z",
     "shell.execute_reply": "2022-12-26T19:03:07.376187Z",
     "shell.execute_reply.started": "2022-12-26T19:03:07.365807Z"
    }
   },
   "source": [
    "#### will be using Logarithmic transformation"
   ]
  },
  {
   "cell_type": "code",
   "execution_count": null,
   "metadata": {
    "execution": {
     "iopub.execute_input": "2023-01-08T14:40:50.83384Z",
     "iopub.status.busy": "2023-01-08T14:40:50.83294Z",
     "iopub.status.idle": "2023-01-08T14:40:53.025149Z",
     "shell.execute_reply": "2023-01-08T14:40:53.023955Z",
     "shell.execute_reply.started": "2023-01-08T14:40:50.833802Z"
    },
    "trusted": true
   },
   "outputs": [],
   "source": [
    "for feature in continuous_features:\n",
    "    df1=df.copy()\n",
    "    if 0 in df1[feature].unique():\n",
    "        pass\n",
    "    else:\n",
    "        df1[feature] = np.log(df1[feature])\n",
    "        df1['SalePrice'] = np.log(df1['SalePrice'])\n",
    "        sns.regplot(data=df1,x=df1[feature],y=df1['SalePrice'])\n",
    "        plt.xlabel(feature)\n",
    "        plt.ylabel('Sales_Price')\n",
    "        plt.title(feature)\n",
    "        plt.show()"
   ]
  },
  {
   "cell_type": "markdown",
   "metadata": {},
   "source": [
    "## Outliers (only works for continuous features)"
   ]
  },
  {
   "cell_type": "code",
   "execution_count": null,
   "metadata": {
    "execution": {
     "iopub.execute_input": "2023-01-08T14:43:10.041282Z",
     "iopub.status.busy": "2023-01-08T14:43:10.040863Z",
     "iopub.status.idle": "2023-01-08T14:43:10.853429Z",
     "shell.execute_reply": "2023-01-08T14:43:10.852148Z",
     "shell.execute_reply.started": "2023-01-08T14:43:10.041249Z"
    },
    "trusted": true
   },
   "outputs": [],
   "source": [
    "from scipy.stats import skew\n",
    "\n",
    "skewed = []\n",
    "for feature in continuous_features:\n",
    "    df1=df.copy()\n",
    "    if 0 in df1[feature].unique():\n",
    "        pass\n",
    "    else:\n",
    "        df1[feature] = np.log(df1[feature])\n",
    "        sns.boxplot(df[feature])\n",
    "        print(feature,': ', skew(df[feature]))\n",
    "        skewed.append(skew(df[feature])) \n",
    "        plt.title(feature)\n",
    "        plt.show()"
   ]
  },
  {
   "cell_type": "markdown",
   "metadata": {},
   "source": [
    "## Handling Outliers\n",
    "\n",
    "* LotFrontage is normally distributed --> outliers are (mean + 3SD)\n",
    "* LotArea,1stFlrSF,GrLivArea are Skewed --> outliers are out of IQR\n"
   ]
  },
  {
   "cell_type": "markdown",
   "metadata": {},
   "source": [
    "#### Handling Outliers for LotFrontage (Normally distributed)"
   ]
  },
  {
   "cell_type": "code",
   "execution_count": null,
   "metadata": {
    "execution": {
     "iopub.execute_input": "2023-01-08T14:43:21.677367Z",
     "iopub.status.busy": "2023-01-08T14:43:21.676683Z",
     "iopub.status.idle": "2023-01-08T14:43:21.695568Z",
     "shell.execute_reply": "2023-01-08T14:43:21.694032Z",
     "shell.execute_reply.started": "2023-01-08T14:43:21.6773Z"
    },
    "trusted": true
   },
   "outputs": [],
   "source": [
    "df['LotFrontage'].describe()"
   ]
  },
  {
   "cell_type": "code",
   "execution_count": null,
   "metadata": {
    "execution": {
     "iopub.execute_input": "2023-01-08T14:43:21.698875Z",
     "iopub.status.busy": "2023-01-08T14:43:21.69825Z",
     "iopub.status.idle": "2023-01-08T14:43:21.713328Z",
     "shell.execute_reply": "2023-01-08T14:43:21.711456Z",
     "shell.execute_reply.started": "2023-01-08T14:43:21.698813Z"
    },
    "trusted": true
   },
   "outputs": [],
   "source": [
    "uppper_boundary=df['LotFrontage'].mean() + 3* df['LotFrontage'].std()\n",
    "lower_boundary=df['LotFrontage'].mean() - 3* df['LotFrontage'].std()\n",
    "print(lower_boundary), print(uppper_boundary),print(df['LotFrontage'].mean())\n"
   ]
  },
  {
   "cell_type": "code",
   "execution_count": null,
   "metadata": {
    "execution": {
     "iopub.execute_input": "2023-01-08T14:43:21.718556Z",
     "iopub.status.busy": "2023-01-08T14:43:21.718053Z",
     "iopub.status.idle": "2023-01-08T14:43:22.057017Z",
     "shell.execute_reply": "2023-01-08T14:43:22.055833Z",
     "shell.execute_reply.started": "2023-01-08T14:43:21.718512Z"
    },
    "trusted": true
   },
   "outputs": [],
   "source": [
    "df.loc[df['LotFrontage']>uppper_boundary,'LotFrontage']=uppper_boundary\n",
    "sns.displot(df['LotFrontage'])"
   ]
  },
  {
   "cell_type": "markdown",
   "metadata": {},
   "source": [
    "#### Handling Outliers for LotArea (skewed)"
   ]
  },
  {
   "cell_type": "code",
   "execution_count": null,
   "metadata": {
    "execution": {
     "iopub.execute_input": "2023-01-08T14:43:22.061067Z",
     "iopub.status.busy": "2023-01-08T14:43:22.06003Z",
     "iopub.status.idle": "2023-01-08T14:43:22.072095Z",
     "shell.execute_reply": "2023-01-08T14:43:22.071304Z",
     "shell.execute_reply.started": "2023-01-08T14:43:22.061027Z"
    },
    "trusted": true
   },
   "outputs": [],
   "source": [
    "df['LotArea'].describe()"
   ]
  },
  {
   "cell_type": "code",
   "execution_count": null,
   "metadata": {
    "execution": {
     "iopub.execute_input": "2023-01-08T14:43:22.074111Z",
     "iopub.status.busy": "2023-01-08T14:43:22.073224Z",
     "iopub.status.idle": "2023-01-08T14:43:22.094799Z",
     "shell.execute_reply": "2023-01-08T14:43:22.093517Z",
     "shell.execute_reply.started": "2023-01-08T14:43:22.074076Z"
    },
    "trusted": true
   },
   "outputs": [],
   "source": [
    "IQR=df.LotArea.quantile(0.75)-df.LotArea.quantile(0.25)\n",
    "\n",
    "lower_bridge=df['LotArea'].quantile(0.25)-(IQR*1.5)\n",
    "upper_bridge=df['LotArea'].quantile(0.75)+(IQR*1.5)\n",
    "print(lower_bridge), print(upper_bridge)"
   ]
  },
  {
   "cell_type": "code",
   "execution_count": null,
   "metadata": {
    "execution": {
     "iopub.execute_input": "2023-01-08T14:43:22.096523Z",
     "iopub.status.busy": "2023-01-08T14:43:22.096169Z",
     "iopub.status.idle": "2023-01-08T14:43:22.401771Z",
     "shell.execute_reply": "2023-01-08T14:43:22.400568Z",
     "shell.execute_reply.started": "2023-01-08T14:43:22.096493Z"
    },
    "trusted": true
   },
   "outputs": [],
   "source": [
    "df.loc[df['LotArea']>upper_bridge,'LotArea']=upper_bridge\n",
    "df.loc[df['LotArea']<lower_bridge,'LotArea']=upper_bridge\n",
    "sns.displot(df['LotArea'])\n"
   ]
  },
  {
   "cell_type": "markdown",
   "metadata": {},
   "source": [
    "#### Handling Outliers for 1stFlrSF (skewed)"
   ]
  },
  {
   "cell_type": "code",
   "execution_count": null,
   "metadata": {
    "execution": {
     "iopub.execute_input": "2023-01-08T14:43:22.404878Z",
     "iopub.status.busy": "2023-01-08T14:43:22.403418Z",
     "iopub.status.idle": "2023-01-08T14:43:22.416668Z",
     "shell.execute_reply": "2023-01-08T14:43:22.41564Z",
     "shell.execute_reply.started": "2023-01-08T14:43:22.404829Z"
    },
    "trusted": true
   },
   "outputs": [],
   "source": [
    "df['1stFlrSF'].describe()"
   ]
  },
  {
   "cell_type": "code",
   "execution_count": null,
   "metadata": {
    "execution": {
     "iopub.execute_input": "2023-01-08T14:43:22.418715Z",
     "iopub.status.busy": "2023-01-08T14:43:22.418326Z",
     "iopub.status.idle": "2023-01-08T14:43:22.432997Z",
     "shell.execute_reply": "2023-01-08T14:43:22.431692Z",
     "shell.execute_reply.started": "2023-01-08T14:43:22.418676Z"
    },
    "trusted": true
   },
   "outputs": [],
   "source": [
    "IQR=df['1stFlrSF'].quantile(0.75)-df['1stFlrSF'].quantile(0.25)\n",
    "\n",
    "lower_bridge=df['1stFlrSF'].quantile(0.25)-(IQR*1.5)\n",
    "upper_bridge=df['1stFlrSF'].quantile(0.75)+(IQR*1.5)\n",
    "print(lower_bridge), print(upper_bridge)"
   ]
  },
  {
   "cell_type": "code",
   "execution_count": null,
   "metadata": {
    "execution": {
     "iopub.execute_input": "2023-01-08T14:43:22.435116Z",
     "iopub.status.busy": "2023-01-08T14:43:22.434794Z",
     "iopub.status.idle": "2023-01-08T14:43:22.711914Z",
     "shell.execute_reply": "2023-01-08T14:43:22.710816Z",
     "shell.execute_reply.started": "2023-01-08T14:43:22.435086Z"
    },
    "trusted": true
   },
   "outputs": [],
   "source": [
    "df.loc[df['1stFlrSF']>upper_bridge,'1stFlrSF']=upper_bridge\n",
    "df.loc[df['1stFlrSF']<lower_bridge,'1stFlrSF']=upper_bridge\n",
    "sns.displot(df['1stFlrSF'])"
   ]
  },
  {
   "cell_type": "markdown",
   "metadata": {},
   "source": [
    "#### Handling Outliers for GrLivArea (skewed)\n"
   ]
  },
  {
   "cell_type": "code",
   "execution_count": null,
   "metadata": {
    "execution": {
     "iopub.execute_input": "2023-01-08T14:43:22.717441Z",
     "iopub.status.busy": "2023-01-08T14:43:22.717096Z",
     "iopub.status.idle": "2023-01-08T14:43:22.727693Z",
     "shell.execute_reply": "2023-01-08T14:43:22.726796Z",
     "shell.execute_reply.started": "2023-01-08T14:43:22.717409Z"
    },
    "trusted": true
   },
   "outputs": [],
   "source": [
    "df['GrLivArea'].describe()"
   ]
  },
  {
   "cell_type": "code",
   "execution_count": null,
   "metadata": {
    "execution": {
     "iopub.execute_input": "2023-01-08T14:43:22.72967Z",
     "iopub.status.busy": "2023-01-08T14:43:22.729139Z",
     "iopub.status.idle": "2023-01-08T14:43:22.746952Z",
     "shell.execute_reply": "2023-01-08T14:43:22.745719Z",
     "shell.execute_reply.started": "2023-01-08T14:43:22.729628Z"
    },
    "trusted": true
   },
   "outputs": [],
   "source": [
    "IQR=df['GrLivArea'].quantile(0.75)-df['GrLivArea'].quantile(0.25)\n",
    "\n",
    "lower_bridge=df['GrLivArea'].quantile(0.25)-(IQR*1.5)\n",
    "upper_bridge=df['GrLivArea'].quantile(0.75)+(IQR*1.5)\n",
    "print(lower_bridge), print(upper_bridge)"
   ]
  },
  {
   "cell_type": "code",
   "execution_count": null,
   "metadata": {
    "execution": {
     "iopub.execute_input": "2023-01-08T14:43:22.749285Z",
     "iopub.status.busy": "2023-01-08T14:43:22.748936Z",
     "iopub.status.idle": "2023-01-08T14:43:23.065865Z",
     "shell.execute_reply": "2023-01-08T14:43:23.064428Z",
     "shell.execute_reply.started": "2023-01-08T14:43:22.749253Z"
    },
    "trusted": true
   },
   "outputs": [],
   "source": [
    "df.loc[df['GrLivArea']>upper_bridge,'1stFlrSF']=upper_bridge\n",
    "df.loc[df['GrLivArea']<lower_bridge,'1stFlrSF']=upper_bridge\n",
    "sns.displot(df['GrLivArea'])"
   ]
  },
  {
   "cell_type": "markdown",
   "metadata": {},
   "source": [
    "# Categorical Variables\n"
   ]
  },
  {
   "cell_type": "code",
   "execution_count": null,
   "metadata": {
    "execution": {
     "iopub.execute_input": "2023-01-08T14:43:23.067675Z",
     "iopub.status.busy": "2023-01-08T14:43:23.067231Z",
     "iopub.status.idle": "2023-01-08T14:43:23.079461Z",
     "shell.execute_reply": "2023-01-08T14:43:23.078197Z",
     "shell.execute_reply.started": "2023-01-08T14:43:23.067637Z"
    },
    "trusted": true
   },
   "outputs": [],
   "source": [
    "categorical_features = [features for features in df.columns if df[features].dtypes=='O']\n",
    "len(categorical_features)"
   ]
  },
  {
   "cell_type": "markdown",
   "metadata": {},
   "source": [
    "* First yo have to focus on cardinality of each categorical feature. means how many no. of category you have in that feature."
   ]
  },
  {
   "cell_type": "code",
   "execution_count": null,
   "metadata": {
    "execution": {
     "iopub.execute_input": "2023-01-08T14:43:23.082117Z",
     "iopub.status.busy": "2023-01-08T14:43:23.081619Z",
     "iopub.status.idle": "2023-01-08T14:43:23.101891Z",
     "shell.execute_reply": "2023-01-08T14:43:23.100814Z",
     "shell.execute_reply.started": "2023-01-08T14:43:23.082061Z"
    },
    "trusted": true
   },
   "outputs": [],
   "source": [
    "for feature in categorical_features:\n",
    "    print(feature,': ',len(df[feature].unique()))"
   ]
  },
  {
   "cell_type": "markdown",
   "metadata": {},
   "source": [
    "#### Realtion b/w categorical variables and dependent variable"
   ]
  },
  {
   "cell_type": "code",
   "execution_count": null,
   "metadata": {
    "execution": {
     "iopub.execute_input": "2023-01-08T14:43:23.104572Z",
     "iopub.status.busy": "2023-01-08T14:43:23.103952Z",
     "iopub.status.idle": "2023-01-08T14:43:29.785624Z",
     "shell.execute_reply": "2023-01-08T14:43:29.784723Z",
     "shell.execute_reply.started": "2023-01-08T14:43:23.104521Z"
    },
    "trusted": true
   },
   "outputs": [],
   "source": [
    " for feature in categorical_features:\n",
    "        df1=df.copy()\n",
    "        df.groupby(feature)['SalePrice'].median().plot.bar()\n",
    "        plt.xlabel(feature)\n",
    "        plt.ylabel('Sales Price')\n",
    "        plt.title(feature)\n",
    "        plt.show()"
   ]
  },
  {
   "cell_type": "markdown",
   "metadata": {},
   "source": [
    "# FEATURE ENGINEERING"
   ]
  },
  {
   "cell_type": "code",
   "execution_count": null,
   "metadata": {
    "execution": {
     "iopub.execute_input": "2023-01-08T14:43:29.789857Z",
     "iopub.status.busy": "2023-01-08T14:43:29.789245Z",
     "iopub.status.idle": "2023-01-08T14:43:29.796782Z",
     "shell.execute_reply": "2023-01-08T14:43:29.795671Z",
     "shell.execute_reply.started": "2023-01-08T14:43:29.789821Z"
    },
    "trusted": true
   },
   "outputs": [],
   "source": [
    "df.shape"
   ]
  },
  {
   "cell_type": "markdown",
   "metadata": {
    "execution": {
     "iopub.execute_input": "2022-12-26T21:23:45.241638Z",
     "iopub.status.busy": "2022-12-26T21:23:45.241159Z",
     "iopub.status.idle": "2022-12-26T21:23:45.24928Z",
     "shell.execute_reply": "2022-12-26T21:23:45.247553Z",
     "shell.execute_reply.started": "2022-12-26T21:23:45.241604Z"
    }
   },
   "source": [
    "### Always split data into train/test before applying feature engineering to avoid data leakage.\n",
    "* first do feature engineering for test dataset and apply same procedure for test dataset"
   ]
  },
  {
   "cell_type": "code",
   "execution_count": null,
   "metadata": {
    "execution": {
     "iopub.execute_input": "2023-01-08T14:43:29.799373Z",
     "iopub.status.busy": "2023-01-08T14:43:29.798315Z",
     "iopub.status.idle": "2023-01-08T14:43:29.811692Z",
     "shell.execute_reply": "2023-01-08T14:43:29.810492Z",
     "shell.execute_reply.started": "2023-01-08T14:43:29.799318Z"
    },
    "trusted": true
   },
   "outputs": [],
   "source": [
    "from sklearn.model_selection import train_test_split\n",
    "train,test = train_test_split(df,test_size=0.2,random_state=42)"
   ]
  },
  {
   "cell_type": "code",
   "execution_count": null,
   "metadata": {
    "execution": {
     "iopub.execute_input": "2023-01-08T14:43:29.816089Z",
     "iopub.status.busy": "2023-01-08T14:43:29.813378Z",
     "iopub.status.idle": "2023-01-08T14:43:29.823027Z",
     "shell.execute_reply": "2023-01-08T14:43:29.822051Z",
     "shell.execute_reply.started": "2023-01-08T14:43:29.816054Z"
    },
    "trusted": true
   },
   "outputs": [],
   "source": [
    "train.shape, test.shape"
   ]
  },
  {
   "cell_type": "markdown",
   "metadata": {},
   "source": [
    "# Feature Engineering for train dataset"
   ]
  },
  {
   "cell_type": "markdown",
   "metadata": {},
   "source": [
    "## Handling missing Values\n",
    "### 1. For categorical features"
   ]
  },
  {
   "cell_type": "code",
   "execution_count": null,
   "metadata": {
    "execution": {
     "iopub.execute_input": "2023-01-08T14:43:29.824993Z",
     "iopub.status.busy": "2023-01-08T14:43:29.824308Z",
     "iopub.status.idle": "2023-01-08T14:43:29.854205Z",
     "shell.execute_reply": "2023-01-08T14:43:29.852991Z",
     "shell.execute_reply.started": "2023-01-08T14:43:29.824945Z"
    },
    "trusted": true
   },
   "outputs": [],
   "source": [
    "cat_nan_features = [feature for feature in train.columns if train[feature].dtypes=='O' and train[feature].isnull().sum()>0]\n",
    "len(cat_nan_features)"
   ]
  },
  {
   "cell_type": "code",
   "execution_count": null,
   "metadata": {
    "execution": {
     "iopub.execute_input": "2023-01-08T14:43:29.856819Z",
     "iopub.status.busy": "2023-01-08T14:43:29.856072Z",
     "iopub.status.idle": "2023-01-08T14:43:29.872855Z",
     "shell.execute_reply": "2023-01-08T14:43:29.87128Z",
     "shell.execute_reply.started": "2023-01-08T14:43:29.856772Z"
    },
    "trusted": true
   },
   "outputs": [],
   "source": [
    "for feature in cat_nan_features:\n",
    "    print('{}: {}% missing values'.format(feature,np.round(train[feature].isnull().mean()*100,2)))\n"
   ]
  },
  {
   "cell_type": "code",
   "execution_count": null,
   "metadata": {
    "execution": {
     "iopub.execute_input": "2023-01-08T14:43:29.874212Z",
     "iopub.status.busy": "2023-01-08T14:43:29.873888Z",
     "iopub.status.idle": "2023-01-08T14:43:29.884543Z",
     "shell.execute_reply": "2023-01-08T14:43:29.883586Z",
     "shell.execute_reply.started": "2023-01-08T14:43:29.874182Z"
    },
    "trusted": true
   },
   "outputs": [],
   "source": [
    "def replace_missing(df,nan_features):\n",
    "    data = df.copy()\n",
    "    data[nan_features]=data[nan_features].fillna('missing')\n",
    "    return data"
   ]
  },
  {
   "cell_type": "code",
   "execution_count": null,
   "metadata": {
    "execution": {
     "iopub.execute_input": "2023-01-08T14:43:29.887171Z",
     "iopub.status.busy": "2023-01-08T14:43:29.885943Z",
     "iopub.status.idle": "2023-01-08T14:43:29.911165Z",
     "shell.execute_reply": "2023-01-08T14:43:29.909998Z",
     "shell.execute_reply.started": "2023-01-08T14:43:29.887121Z"
    },
    "trusted": true
   },
   "outputs": [],
   "source": [
    "train = replace_missing(train,cat_nan_features)\n",
    "train[cat_nan_features].isnull().sum()"
   ]
  },
  {
   "cell_type": "code",
   "execution_count": null,
   "metadata": {
    "execution": {
     "iopub.execute_input": "2023-01-08T14:43:29.913609Z",
     "iopub.status.busy": "2023-01-08T14:43:29.912583Z",
     "iopub.status.idle": "2023-01-08T14:43:29.935494Z",
     "shell.execute_reply": "2023-01-08T14:43:29.934576Z",
     "shell.execute_reply.started": "2023-01-08T14:43:29.913574Z"
    },
    "trusted": true
   },
   "outputs": [],
   "source": [
    "train[cat_nan_features].head()"
   ]
  },
  {
   "cell_type": "markdown",
   "metadata": {},
   "source": [
    "### 2. Handling missing values for numerical features"
   ]
  },
  {
   "cell_type": "code",
   "execution_count": null,
   "metadata": {
    "execution": {
     "iopub.execute_input": "2023-01-08T14:43:29.937761Z",
     "iopub.status.busy": "2023-01-08T14:43:29.936605Z",
     "iopub.status.idle": "2023-01-08T14:43:29.958194Z",
     "shell.execute_reply": "2023-01-08T14:43:29.957074Z",
     "shell.execute_reply.started": "2023-01-08T14:43:29.937724Z"
    },
    "trusted": true
   },
   "outputs": [],
   "source": [
    "num_nan_features = [feature for feature in train.columns if train[feature].dtypes!='O' and train[feature].isnull().sum()>0]\n",
    "len(num_nan_features)"
   ]
  },
  {
   "cell_type": "code",
   "execution_count": null,
   "metadata": {
    "execution": {
     "iopub.execute_input": "2023-01-08T14:43:29.96002Z",
     "iopub.status.busy": "2023-01-08T14:43:29.959694Z",
     "iopub.status.idle": "2023-01-08T14:43:29.969857Z",
     "shell.execute_reply": "2023-01-08T14:43:29.968682Z",
     "shell.execute_reply.started": "2023-01-08T14:43:29.959982Z"
    },
    "trusted": true
   },
   "outputs": [],
   "source": [
    "for feature in num_nan_features:\n",
    "    print('{}: {}% missing values'.format(feature,np.round(train[feature].isnull().mean()*100,2)))"
   ]
  },
  {
   "cell_type": "markdown",
   "metadata": {},
   "source": [
    "#### Creates new cols to capture nan value before replacing it with median/mode"
   ]
  },
  {
   "cell_type": "code",
   "execution_count": null,
   "metadata": {
    "execution": {
     "iopub.execute_input": "2023-01-08T14:43:29.97197Z",
     "iopub.status.busy": "2023-01-08T14:43:29.971093Z",
     "iopub.status.idle": "2023-01-08T14:43:29.992208Z",
     "shell.execute_reply": "2023-01-08T14:43:29.990646Z",
     "shell.execute_reply.started": "2023-01-08T14:43:29.971934Z"
    },
    "trusted": true
   },
   "outputs": [],
   "source": [
    "for feature in num_nan_features:\n",
    "    median=train[feature].median()\n",
    "    \n",
    "    train[feature+\"_nan\"] = np.where(train[feature].isnull(),1,0)\n",
    "    train[feature].fillna(median,inplace=True)\n",
    "    \n",
    "train[num_nan_features].isnull().sum()"
   ]
  },
  {
   "cell_type": "markdown",
   "metadata": {},
   "source": [
    "### Handling Temporal Variables (date/time variables)"
   ]
  },
  {
   "cell_type": "code",
   "execution_count": null,
   "metadata": {
    "execution": {
     "iopub.execute_input": "2023-01-08T14:43:29.994192Z",
     "iopub.status.busy": "2023-01-08T14:43:29.993831Z",
     "iopub.status.idle": "2023-01-08T14:43:30.001066Z",
     "shell.execute_reply": "2023-01-08T14:43:30.00005Z",
     "shell.execute_reply.started": "2023-01-08T14:43:29.994159Z"
    },
    "trusted": true
   },
   "outputs": [],
   "source": [
    "for feature in ['YearBuilt', 'YearRemodAdd', 'GarageYrBlt']:\n",
    "    train[feature] = train['YrSold']-train[feature]"
   ]
  },
  {
   "cell_type": "code",
   "execution_count": null,
   "metadata": {
    "execution": {
     "iopub.execute_input": "2023-01-08T14:43:30.010214Z",
     "iopub.status.busy": "2023-01-08T14:43:30.0098Z",
     "iopub.status.idle": "2023-01-08T14:43:30.022795Z",
     "shell.execute_reply": "2023-01-08T14:43:30.02155Z",
     "shell.execute_reply.started": "2023-01-08T14:43:30.010178Z"
    },
    "trusted": true
   },
   "outputs": [],
   "source": [
    "train[['YearBuilt', 'YearRemodAdd', 'GarageYrBlt']].head()"
   ]
  },
  {
   "cell_type": "markdown",
   "metadata": {},
   "source": [
    "### Applying log normal distribution on skewed features"
   ]
  },
  {
   "cell_type": "code",
   "execution_count": null,
   "metadata": {
    "execution": {
     "iopub.execute_input": "2023-01-08T14:43:30.024895Z",
     "iopub.status.busy": "2023-01-08T14:43:30.024428Z",
     "iopub.status.idle": "2023-01-08T14:43:30.037231Z",
     "shell.execute_reply": "2023-01-08T14:43:30.036068Z",
     "shell.execute_reply.started": "2023-01-08T14:43:30.02486Z"
    },
    "trusted": true
   },
   "outputs": [],
   "source": [
    "skewed_features = ['LotFrontage',  'LotArea',  '1stFlrSF', 'GrLivArea', 'SalePrice']\n",
    "\n",
    "for feature in skewed_features:\n",
    "    train[feature] = np.log(train[feature])"
   ]
  },
  {
   "cell_type": "markdown",
   "metadata": {},
   "source": [
    "### Handling rare categorical features\n",
    "#### we will remove categorical features that are present less than 1% of the observation"
   ]
  },
  {
   "cell_type": "code",
   "execution_count": null,
   "metadata": {
    "execution": {
     "iopub.execute_input": "2023-01-08T14:43:30.039907Z",
     "iopub.status.busy": "2023-01-08T14:43:30.039229Z",
     "iopub.status.idle": "2023-01-08T14:43:30.118258Z",
     "shell.execute_reply": "2023-01-08T14:43:30.117012Z",
     "shell.execute_reply.started": "2023-01-08T14:43:30.039827Z"
    },
    "trusted": true
   },
   "outputs": [],
   "source": [
    "for feature in categorical_features:\n",
    "    temp = train.groupby(feature)['SalePrice'].count()/len(train)\n",
    "    # we groupby different feature and calc count of SalePrice for each category in each feature\n",
    "    # after dividing by len(df); we get fraction of each category\n",
    "    \n",
    "    temp_df = temp[temp>0.01].index\n",
    "    train[feature] = np.where( train[feature].isin(temp_df), train[feature], 'Rare_cat' )"
   ]
  },
  {
   "cell_type": "code",
   "execution_count": null,
   "metadata": {
    "execution": {
     "iopub.execute_input": "2023-01-08T14:43:30.120936Z",
     "iopub.status.busy": "2023-01-08T14:43:30.119707Z",
     "iopub.status.idle": "2023-01-08T14:43:30.146162Z",
     "shell.execute_reply": "2023-01-08T14:43:30.145163Z",
     "shell.execute_reply.started": "2023-01-08T14:43:30.120894Z"
    },
    "trusted": true
   },
   "outputs": [],
   "source": [
    "train.head()"
   ]
  },
  {
   "cell_type": "markdown",
   "metadata": {},
   "source": [
    "### Using label encoding\n",
    "First sort different category of feaures according to mean_SalePrice of each category and then label them with respective value "
   ]
  },
  {
   "cell_type": "code",
   "execution_count": null,
   "metadata": {
    "execution": {
     "iopub.execute_input": "2023-01-08T14:43:30.148126Z",
     "iopub.status.busy": "2023-01-08T14:43:30.147251Z",
     "iopub.status.idle": "2023-01-08T14:43:30.243916Z",
     "shell.execute_reply": "2023-01-08T14:43:30.242886Z",
     "shell.execute_reply.started": "2023-01-08T14:43:30.14809Z"
    },
    "trusted": true
   },
   "outputs": [],
   "source": [
    "for feature in categorical_features:\n",
    "    labels_ordered = train.groupby(feature)['SalePrice'].mean().sort_values().index\n",
    "    labels_ordered={k:i for i,k in enumerate(labels_ordered,0)}\n",
    "    train[feature]=train[feature].map(labels_ordered)"
   ]
  },
  {
   "cell_type": "code",
   "execution_count": null,
   "metadata": {
    "execution": {
     "iopub.execute_input": "2023-01-08T14:43:30.245543Z",
     "iopub.status.busy": "2023-01-08T14:43:30.245203Z",
     "iopub.status.idle": "2023-01-08T14:43:30.272076Z",
     "shell.execute_reply": "2023-01-08T14:43:30.270798Z",
     "shell.execute_reply.started": "2023-01-08T14:43:30.245512Z"
    },
    "trusted": true
   },
   "outputs": [],
   "source": [
    "train.head()"
   ]
  },
  {
   "cell_type": "markdown",
   "metadata": {},
   "source": [
    "## Feature Scaling"
   ]
  },
  {
   "cell_type": "code",
   "execution_count": null,
   "metadata": {
    "execution": {
     "iopub.execute_input": "2023-01-08T14:43:30.27411Z",
     "iopub.status.busy": "2023-01-08T14:43:30.273671Z",
     "iopub.status.idle": "2023-01-08T14:43:30.29228Z",
     "shell.execute_reply": "2023-01-08T14:43:30.291055Z",
     "shell.execute_reply.started": "2023-01-08T14:43:30.274067Z"
    },
    "trusted": true
   },
   "outputs": [],
   "source": [
    "from sklearn.preprocessing import MinMaxScaler as MMS\n",
    "\n",
    "scaled_features = [feature for feature in train.columns if feature not in ['Id','SalePrice'] ]\n",
    "scaler = MMS()\n",
    "scaler.fit(train[scaled_features])"
   ]
  },
  {
   "cell_type": "code",
   "execution_count": null,
   "metadata": {
    "execution": {
     "iopub.execute_input": "2023-01-08T14:43:30.29426Z",
     "iopub.status.busy": "2023-01-08T14:43:30.293843Z",
     "iopub.status.idle": "2023-01-08T14:43:30.308342Z",
     "shell.execute_reply": "2023-01-08T14:43:30.30702Z",
     "shell.execute_reply.started": "2023-01-08T14:43:30.294228Z"
    },
    "trusted": true
   },
   "outputs": [],
   "source": [
    "train_data = pd.concat([train[['Id','SalePrice']].reset_index(drop=True),\n",
    "                     pd.DataFrame(scaler.transform(train[scaled_features]), columns=scaled_features)], axis=1)"
   ]
  },
  {
   "cell_type": "code",
   "execution_count": null,
   "metadata": {
    "execution": {
     "iopub.execute_input": "2023-01-08T14:43:30.310741Z",
     "iopub.status.busy": "2023-01-08T14:43:30.310279Z",
     "iopub.status.idle": "2023-01-08T14:43:30.348514Z",
     "shell.execute_reply": "2023-01-08T14:43:30.347185Z",
     "shell.execute_reply.started": "2023-01-08T14:43:30.310698Z"
    },
    "trusted": true
   },
   "outputs": [],
   "source": [
    "train_data.head(10)"
   ]
  },
  {
   "cell_type": "code",
   "execution_count": null,
   "metadata": {
    "execution": {
     "iopub.execute_input": "2023-01-08T14:43:30.350583Z",
     "iopub.status.busy": "2023-01-08T14:43:30.350099Z",
     "iopub.status.idle": "2023-01-08T14:43:30.36208Z",
     "shell.execute_reply": "2023-01-08T14:43:30.360592Z",
     "shell.execute_reply.started": "2023-01-08T14:43:30.35053Z"
    },
    "trusted": true
   },
   "outputs": [],
   "source": [
    "x_train = train_data.drop(['Id','SalePrice'], axis=1)\n",
    "y_train = train_data['SalePrice']\n",
    "x_train.shape , y_train.shape"
   ]
  },
  {
   "cell_type": "code",
   "execution_count": null,
   "metadata": {
    "execution": {
     "iopub.execute_input": "2023-01-08T14:43:30.364106Z",
     "iopub.status.busy": "2023-01-08T14:43:30.363596Z",
     "iopub.status.idle": "2023-01-08T14:43:30.467194Z",
     "shell.execute_reply": "2023-01-08T14:43:30.465886Z",
     "shell.execute_reply.started": "2023-01-08T14:43:30.364074Z"
    },
    "trusted": true
   },
   "outputs": [],
   "source": [
    "train_data.to_csv('train_x.csv', index=False)"
   ]
  },
  {
   "cell_type": "markdown",
   "metadata": {},
   "source": [
    "## Feature Engineering for Test dataset"
   ]
  },
  {
   "cell_type": "code",
   "execution_count": null,
   "metadata": {
    "execution": {
     "iopub.execute_input": "2023-01-08T14:43:30.469628Z",
     "iopub.status.busy": "2023-01-08T14:43:30.469241Z",
     "iopub.status.idle": "2023-01-08T14:43:30.652796Z",
     "shell.execute_reply": "2023-01-08T14:43:30.651535Z",
     "shell.execute_reply.started": "2023-01-08T14:43:30.469586Z"
    },
    "trusted": true
   },
   "outputs": [],
   "source": [
    "cat_nan_features = [feature for feature in test.columns if test[feature].dtypes=='O' and test[feature].isnull().sum()>0]\n",
    "\n",
    "test = replace_missing(test,cat_nan_features)\n",
    "test[cat_nan_features].isnull().sum()\n",
    "\n",
    "num_nan_features = [feature for feature in test.columns if test[feature].dtypes!='O' and test[feature].isnull().sum()>0]\n",
    "\n",
    "for feature in num_nan_features:\n",
    "    median=test[feature].median()\n",
    "    \n",
    "    test[feature+\"_nan\"] = np.where(test[feature].isnull(),1,0)\n",
    "    test[feature].fillna(median,inplace=True)\n",
    "    \n",
    "test[num_nan_features].isnull().sum()\n",
    "\n",
    "\n",
    "for feature in ['YearBuilt', 'YearRemodAdd', 'GarageYrBlt']:\n",
    "    test[feature] = test['YrSold']-test[feature]\n",
    "    \n",
    "skewed_features = ['LotFrontage',  'LotArea',  '1stFlrSF', 'GrLivArea', 'SalePrice']\n",
    "\n",
    "for feature in skewed_features:\n",
    "    test[feature] = np.log(test[feature])\n",
    "    \n",
    "    \n",
    "for feature in categorical_features:\n",
    "    temp = test.groupby(feature)['SalePrice'].count()/len(test)\n",
    "    temp_df = temp[temp>0.01].index\n",
    "    test[feature] = np.where( test[feature].isin(temp_df), test[feature], 'Rare_cat' )\n",
    "\n",
    "    \n",
    "for feature in categorical_features:\n",
    "    labels_ordered = test.groupby(feature)['SalePrice'].mean().sort_values().index\n",
    "    labels_ordered={k:i for i,k in enumerate(labels_ordered,0)}\n",
    "    test[feature]=test[feature].map(labels_ordered)\n",
    "    \n",
    "\n",
    "scaled_features = [feature for feature in test.columns if feature not in ['Id','SalePrice'] ]\n",
    "scaler = MMS()\n",
    "scaler.fit(test[scaled_features])\n",
    "\n",
    "test_data = pd.concat([test[['Id','SalePrice']].reset_index(drop=True),\n",
    "                     pd.DataFrame(scaler.transform(test[scaled_features]), columns=scaled_features)], axis=1)"
   ]
  },
  {
   "cell_type": "code",
   "execution_count": null,
   "metadata": {
    "execution": {
     "iopub.execute_input": "2023-01-08T14:43:30.654401Z",
     "iopub.status.busy": "2023-01-08T14:43:30.654064Z",
     "iopub.status.idle": "2023-01-08T14:43:30.664666Z",
     "shell.execute_reply": "2023-01-08T14:43:30.663513Z",
     "shell.execute_reply.started": "2023-01-08T14:43:30.654369Z"
    },
    "trusted": true
   },
   "outputs": [],
   "source": [
    "x_test = test.drop(['Id','SalePrice'], axis=1)\n",
    "y_test = test['SalePrice']\n",
    "x_test.shape , y_test.shape"
   ]
  },
  {
   "cell_type": "markdown",
   "metadata": {
    "execution": {
     "iopub.execute_input": "2022-12-27T14:41:00.843966Z",
     "iopub.status.busy": "2022-12-27T14:41:00.843513Z",
     "iopub.status.idle": "2022-12-27T14:41:00.851053Z",
     "shell.execute_reply": "2022-12-27T14:41:00.849453Z",
     "shell.execute_reply.started": "2022-12-27T14:41:00.843909Z"
    }
   },
   "source": [
    "## Feature Selection\n",
    "\n"
   ]
  },
  {
   "cell_type": "code",
   "execution_count": null,
   "metadata": {
    "execution": {
     "iopub.execute_input": "2023-01-08T14:43:30.666547Z",
     "iopub.status.busy": "2023-01-08T14:43:30.666198Z",
     "iopub.status.idle": "2023-01-08T14:43:30.698923Z",
     "shell.execute_reply": "2023-01-08T14:43:30.697762Z",
     "shell.execute_reply.started": "2023-01-08T14:43:30.666505Z"
    },
    "trusted": true
   },
   "outputs": [],
   "source": [
    "x_train.head()"
   ]
  },
  {
   "cell_type": "code",
   "execution_count": null,
   "metadata": {
    "execution": {
     "iopub.execute_input": "2023-01-08T14:43:30.701162Z",
     "iopub.status.busy": "2023-01-08T14:43:30.700779Z",
     "iopub.status.idle": "2023-01-08T14:43:30.776919Z",
     "shell.execute_reply": "2023-01-08T14:43:30.775641Z",
     "shell.execute_reply.started": "2023-01-08T14:43:30.70113Z"
    },
    "trusted": true
   },
   "outputs": [],
   "source": [
    "from sklearn.linear_model import Lasso\n",
    "from sklearn.feature_selection import SelectFromModel\n",
    "# SelectFromModel selects features from model whose. coefficient is non-zero"
   ]
  },
  {
   "cell_type": "code",
   "execution_count": null,
   "metadata": {
    "execution": {
     "iopub.execute_input": "2023-01-08T14:43:30.779148Z",
     "iopub.status.busy": "2023-01-08T14:43:30.778674Z",
     "iopub.status.idle": "2023-01-08T14:43:30.81071Z",
     "shell.execute_reply": "2023-01-08T14:43:30.808892Z",
     "shell.execute_reply.started": "2023-01-08T14:43:30.779101Z"
    },
    "trusted": true
   },
   "outputs": [],
   "source": [
    "model = SelectFromModel(Lasso(alpha=0.005, random_state=0))\n",
    "# remeber the seed value(random_state value); you have to use same value for test dataset\n",
    "model.fit(x_train,y_train)"
   ]
  },
  {
   "cell_type": "markdown",
   "metadata": {},
   "source": [
    "#### get_support():- True indicates, that feature is important and that should be used"
   ]
  },
  {
   "cell_type": "code",
   "execution_count": null,
   "metadata": {
    "execution": {
     "iopub.execute_input": "2023-01-08T14:43:30.814229Z",
     "iopub.status.busy": "2023-01-08T14:43:30.812897Z",
     "iopub.status.idle": "2023-01-08T14:43:30.830184Z",
     "shell.execute_reply": "2023-01-08T14:43:30.828512Z",
     "shell.execute_reply.started": "2023-01-08T14:43:30.814166Z"
    },
    "trusted": true
   },
   "outputs": [],
   "source": [
    "model.get_support()"
   ]
  },
  {
   "cell_type": "markdown",
   "metadata": {},
   "source": [
    "Let's print total features and selected features"
   ]
  },
  {
   "cell_type": "code",
   "execution_count": null,
   "metadata": {
    "execution": {
     "iopub.execute_input": "2023-01-08T14:43:30.834061Z",
     "iopub.status.busy": "2023-01-08T14:43:30.832286Z",
     "iopub.status.idle": "2023-01-08T14:43:30.846912Z",
     "shell.execute_reply": "2023-01-08T14:43:30.844915Z",
     "shell.execute_reply.started": "2023-01-08T14:43:30.833983Z"
    },
    "trusted": true
   },
   "outputs": [],
   "source": [
    "selected_features = x_train.columns[(model.get_support())]\n",
    "selected_features"
   ]
  },
  {
   "cell_type": "code",
   "execution_count": null,
   "metadata": {
    "execution": {
     "iopub.execute_input": "2023-01-08T14:43:30.850864Z",
     "iopub.status.busy": "2023-01-08T14:43:30.849854Z",
     "iopub.status.idle": "2023-01-08T14:43:30.870352Z",
     "shell.execute_reply": "2023-01-08T14:43:30.868715Z",
     "shell.execute_reply.started": "2023-01-08T14:43:30.850802Z"
    },
    "trusted": true
   },
   "outputs": [],
   "source": [
    "print('Total features: {}'.format(x_train.shape[1]))\n",
    "print('selected features: {}'.format(len(selected_features)))\n",
    "print(\"features with coeffecient zero: {}\".format(np.sum(model.estimator_.coef_ == 0)))"
   ]
  },
  {
   "cell_type": "code",
   "execution_count": null,
   "metadata": {
    "execution": {
     "iopub.execute_input": "2023-01-08T14:43:30.87443Z",
     "iopub.status.busy": "2023-01-08T14:43:30.87301Z",
     "iopub.status.idle": "2023-01-08T14:43:30.891946Z",
     "shell.execute_reply": "2023-01-08T14:43:30.890632Z",
     "shell.execute_reply.started": "2023-01-08T14:43:30.874365Z"
    },
    "trusted": true
   },
   "outputs": [],
   "source": [
    "train_x = x_train[selected_features]\n",
    "train_y = train_data['SalePrice']\n",
    "\n",
    "test_x = x_test[selected_features]\n",
    "test_y = test_data['SalePrice']\n",
    "\n",
    "train_x.shape , train_y.shape"
   ]
  },
  {
   "cell_type": "code",
   "execution_count": null,
   "metadata": {
    "execution": {
     "iopub.execute_input": "2023-01-08T14:43:30.894891Z",
     "iopub.status.busy": "2023-01-08T14:43:30.894036Z",
     "iopub.status.idle": "2023-01-08T14:43:30.94858Z",
     "shell.execute_reply": "2023-01-08T14:43:30.947153Z",
     "shell.execute_reply.started": "2023-01-08T14:43:30.894843Z"
    },
    "trusted": true
   },
   "outputs": [],
   "source": [
    "train_x.corr()"
   ]
  },
  {
   "cell_type": "markdown",
   "metadata": {},
   "source": [
    "* We apply correlatioon after removing some features because it is very difficult to see correlation for 81 features together"
   ]
  },
  {
   "cell_type": "code",
   "execution_count": null,
   "metadata": {
    "execution": {
     "iopub.execute_input": "2023-01-08T14:43:30.950282Z",
     "iopub.status.busy": "2023-01-08T14:43:30.949956Z",
     "iopub.status.idle": "2023-01-08T14:43:33.876635Z",
     "shell.execute_reply": "2023-01-08T14:43:33.875789Z",
     "shell.execute_reply.started": "2023-01-08T14:43:30.950253Z"
    },
    "trusted": true
   },
   "outputs": [],
   "source": [
    "plt.figure(figsize=(18,18))\n",
    "sns.heatmap(train_x.corr(),annot=True, cmap='RdYlGn')"
   ]
  },
  {
   "cell_type": "markdown",
   "metadata": {},
   "source": [
    "## Visualize Important Features"
   ]
  },
  {
   "cell_type": "code",
   "execution_count": null,
   "metadata": {
    "execution": {
     "iopub.execute_input": "2023-01-08T14:43:33.878888Z",
     "iopub.status.busy": "2023-01-08T14:43:33.877984Z",
     "iopub.status.idle": "2023-01-08T14:43:34.650504Z",
     "shell.execute_reply": "2023-01-08T14:43:34.64899Z",
     "shell.execute_reply.started": "2023-01-08T14:43:33.878852Z"
    },
    "trusted": true
   },
   "outputs": [],
   "source": [
    "from sklearn.ensemble import ExtraTreesRegressor\n",
    "import matplotlib.pyplot as plt\n",
    "model = ExtraTreesRegressor()\n",
    "model.fit(train_x,train_y)\n",
    "\n",
    "feat_importances = pd.Series(model.feature_importances_, index=train_x.columns)\n",
    "feat_importances.nlargest(5).plot(kind='barh')\n",
    "plt.show()"
   ]
  },
  {
   "cell_type": "markdown",
   "metadata": {},
   "source": [
    "# Model Creation"
   ]
  },
  {
   "cell_type": "markdown",
   "metadata": {},
   "source": [
    "## 1. Linear Regression\n"
   ]
  },
  {
   "cell_type": "code",
   "execution_count": null,
   "metadata": {
    "execution": {
     "iopub.execute_input": "2023-01-08T14:43:34.654212Z",
     "iopub.status.busy": "2023-01-08T14:43:34.652755Z",
     "iopub.status.idle": "2023-01-08T14:43:34.69363Z",
     "shell.execute_reply": "2023-01-08T14:43:34.691928Z",
     "shell.execute_reply.started": "2023-01-08T14:43:34.654144Z"
    },
    "trusted": true
   },
   "outputs": [],
   "source": [
    "from sklearn.model_selection import cross_val_score\n",
    "from sklearn.linear_model import LinearRegression\n",
    "from sklearn.metrics import r2_score \n",
    "from sklearn.metrics import mean_squared_error\n",
    "from sklearn.metrics import mean_absolute_error\n",
    "\n",
    "lin_reg = LinearRegression()\n",
    "lin_reg.fit(train_x,train_y)\n",
    "y_pred = lin_reg.predict(test_x)"
   ]
  },
  {
   "cell_type": "markdown",
   "metadata": {},
   "source": [
    "Coefficients of this model are not of much use as other model performs better than linear regression"
   ]
  },
  {
   "cell_type": "code",
   "execution_count": null,
   "metadata": {
    "execution": {
     "iopub.execute_input": "2023-01-08T14:43:34.696993Z",
     "iopub.status.busy": "2023-01-08T14:43:34.696022Z",
     "iopub.status.idle": "2023-01-08T14:43:34.716255Z",
     "shell.execute_reply": "2023-01-08T14:43:34.714823Z",
     "shell.execute_reply.started": "2023-01-08T14:43:34.696925Z"
    },
    "trusted": true
   },
   "outputs": [],
   "source": [
    "coef_df = pd.DataFrame(lin_reg.coef_, test_x.columns, \n",
    "                       columns=['Coefficients'])\n",
    "coef_df"
   ]
  },
  {
   "cell_type": "code",
   "execution_count": null,
   "metadata": {
    "execution": {
     "iopub.execute_input": "2023-01-08T14:43:34.71951Z",
     "iopub.status.busy": "2023-01-08T14:43:34.718596Z",
     "iopub.status.idle": "2023-01-08T14:43:34.796672Z",
     "shell.execute_reply": "2023-01-08T14:43:34.795079Z",
     "shell.execute_reply.started": "2023-01-08T14:43:34.71943Z"
    },
    "trusted": true
   },
   "outputs": [],
   "source": [
    "from sklearn import metrics\n",
    "\n",
    "linear_score = cross_val_score(lin_reg,test_x,test_y,cv=5)\n",
    "print('Cross Val Score: ', linear_score.mean())\n",
    "print('R2 score:',r2_score(test_y, y_pred))\n",
    "print('Mean Absolute Error:', mean_absolute_error(test_y, y_pred))\n",
    "print('Mean Squared Error:',mean_squared_error(test_y, y_pred))\n",
    "\n",
    "linear_RMSE = np.sqrt(mean_squared_error(test_y, y_pred))\n",
    "print('Root Mean Squared Error:', linear_RMSE )\n"
   ]
  },
  {
   "cell_type": "markdown",
   "metadata": {},
   "source": [
    "## 2. Ridge Regression"
   ]
  },
  {
   "cell_type": "code",
   "execution_count": null,
   "metadata": {
    "execution": {
     "iopub.execute_input": "2023-01-08T14:43:34.79995Z",
     "iopub.status.busy": "2023-01-08T14:43:34.79906Z",
     "iopub.status.idle": "2023-01-08T14:43:47.53621Z",
     "shell.execute_reply": "2023-01-08T14:43:47.534189Z",
     "shell.execute_reply.started": "2023-01-08T14:43:34.799913Z"
    },
    "trusted": true
   },
   "outputs": [],
   "source": [
    "from sklearn.model_selection import GridSearchCV\n",
    "from sklearn.model_selection import KFold\n",
    "from sklearn.pipeline import Pipeline\n",
    "from sklearn.preprocessing import PolynomialFeatures\n",
    "from sklearn.linear_model import Ridge\n",
    "\n",
    "\n",
    "kf = KFold(shuffle=True, random_state=0, n_splits=3)\n",
    "\n",
    "estimator = Pipeline([(\"polynomial_features\", PolynomialFeatures()),\n",
    "                      (\"ridge_regression\", Ridge())])\n",
    "\n",
    "params = {\n",
    "    'polynomial_features__degree': [1, 2, 3],\n",
    "    'ridge_regression__alpha': [1e-15,1e-10,1e-8,1e-3,0.005,1e-2,0.05,0.1,0.5,1,5,10,20,30,35,40]\n",
    "}\n",
    "# 'alpha':[1e-15,1e-10,1e-8,1e-3,0.005,1e-2,0.05,0.1,0.5,1,5,10,20,30,35,40]\n",
    "\n",
    "grid = GridSearchCV(estimator, params, cv=kf)\n",
    "\n",
    "grid.fit(train_x,train_y)\n",
    "print('best score: {}'.format(grid.best_score_))\n",
    "print('best score: {}'.format(grid.best_params_))\n"
   ]
  },
  {
   "cell_type": "markdown",
   "metadata": {},
   "source": [
    "* Best value of alpha for Ridge is 0.1"
   ]
  },
  {
   "cell_type": "code",
   "execution_count": null,
   "metadata": {
    "execution": {
     "iopub.execute_input": "2023-01-08T14:43:47.539511Z",
     "iopub.status.busy": "2023-01-08T14:43:47.538758Z",
     "iopub.status.idle": "2023-01-08T14:43:47.674648Z",
     "shell.execute_reply": "2023-01-08T14:43:47.67373Z",
     "shell.execute_reply.started": "2023-01-08T14:43:47.539444Z"
    },
    "trusted": true
   },
   "outputs": [],
   "source": [
    "ridge = Ridge(alpha=0.1)\n",
    "\n",
    "ridge.fit(train_x,train_y)\n",
    "y_pred = ridge.predict(test_x)\n",
    "\n",
    "ridge_score = cross_val_score(ridge,test_x,test_y,cv=10)\n",
    "print('Cross Val Score: ', ridge_score.mean())\n",
    "\n",
    "ridge_RMSE = np.sqrt(mean_squared_error(test_y, y_pred))\n",
    "print('Root Mean Squared Error:', ridge_RMSE)\n",
    "\n"
   ]
  },
  {
   "cell_type": "markdown",
   "metadata": {},
   "source": [
    "## 3. LASSO Regression"
   ]
  },
  {
   "cell_type": "code",
   "execution_count": null,
   "metadata": {
    "execution": {
     "iopub.execute_input": "2023-01-08T14:43:47.676397Z",
     "iopub.status.busy": "2023-01-08T14:43:47.675897Z",
     "iopub.status.idle": "2023-01-08T14:43:50.008501Z",
     "shell.execute_reply": "2023-01-08T14:43:50.00653Z",
     "shell.execute_reply.started": "2023-01-08T14:43:47.676365Z"
    },
    "trusted": true
   },
   "outputs": [],
   "source": [
    "from sklearn.model_selection import GridSearchCV\n",
    "\n",
    "lasso=Lasso()\n",
    "parameters={'alpha':[1e-15,1e-10,1e-8,1e-3,0.005,1e-2,0.05,0.1,0.5,1,5,10,20,30,35,40]}\n",
    "lasso_regressor=GridSearchCV(lasso,parameters,cv=kf)\n",
    "\n",
    "lasso_regressor.fit(x_train,y_train)\n",
    "print(lasso_regressor.best_params_)\n",
    "print(lasso_regressor.best_score_)"
   ]
  },
  {
   "cell_type": "markdown",
   "metadata": {},
   "source": [
    "* Best value of alpha for Lasso is 0.001"
   ]
  },
  {
   "cell_type": "code",
   "execution_count": null,
   "metadata": {
    "execution": {
     "iopub.execute_input": "2023-01-08T14:43:50.01454Z",
     "iopub.status.busy": "2023-01-08T14:43:50.012045Z",
     "iopub.status.idle": "2023-01-08T14:43:50.180235Z",
     "shell.execute_reply": "2023-01-08T14:43:50.179121Z",
     "shell.execute_reply.started": "2023-01-08T14:43:50.014456Z"
    },
    "trusted": true
   },
   "outputs": [],
   "source": [
    "lasso = Lasso(alpha=0.001)\n",
    "\n",
    "lasso.fit(train_x,train_y)\n",
    "y_pred = lasso.predict(test_x)\n",
    "\n",
    "lasso_score = cross_val_score(lasso,test_x,test_y,cv=10)\n",
    "print('Cross Val Score: ', lasso_score.mean())\n",
    "\n",
    "lasso_RMSE = np.sqrt(mean_squared_error(test_y, y_pred))\n",
    "print('Root Mean Squared Error:', lasso_RMSE)\n"
   ]
  },
  {
   "cell_type": "markdown",
   "metadata": {},
   "source": [
    "### Compare Linear/Ridge/Lasso"
   ]
  },
  {
   "cell_type": "code",
   "execution_count": null,
   "metadata": {
    "execution": {
     "iopub.execute_input": "2023-01-08T14:43:50.182116Z",
     "iopub.status.busy": "2023-01-08T14:43:50.181614Z",
     "iopub.status.idle": "2023-01-08T14:43:50.188538Z",
     "shell.execute_reply": "2023-01-08T14:43:50.187567Z",
     "shell.execute_reply.started": "2023-01-08T14:43:50.182084Z"
    },
    "trusted": true
   },
   "outputs": [],
   "source": [
    "print('Linear Regression score: {} , RMSE: {}'.format(linear_score.mean(),linear_RMSE))\n",
    "print('Ridge Regression score: {} , RMSE: {}'.format(ridge_score.mean(),ridge_RMSE))\n",
    "print('Lasso Regression score: {} , RMSE: {}'.format(lasso_score.mean() ,lasso_RMSE))"
   ]
  },
  {
   "cell_type": "markdown",
   "metadata": {},
   "source": [
    "#### Lasso Regression performs better than Linear and Ridge Regression\n",
    "* it has highest CV score score and least RMSE"
   ]
  },
  {
   "cell_type": "markdown",
   "metadata": {},
   "source": [
    "## 4. K-Nearest-Neighbour Regressor\n"
   ]
  },
  {
   "cell_type": "code",
   "execution_count": null,
   "metadata": {
    "execution": {
     "iopub.execute_input": "2023-01-08T14:43:50.191226Z",
     "iopub.status.busy": "2023-01-08T14:43:50.190216Z",
     "iopub.status.idle": "2023-01-08T14:43:53.03853Z",
     "shell.execute_reply": "2023-01-08T14:43:53.03753Z",
     "shell.execute_reply.started": "2023-01-08T14:43:50.191192Z"
    },
    "trusted": true
   },
   "outputs": [],
   "source": [
    "from sklearn.neighbors import KNeighborsRegressor\n",
    "\n",
    "accuracy=[]\n",
    "k=0\n",
    "temp=0\n",
    "for n in range(1,50):\n",
    "    knn=KNeighborsRegressor(n_neighbors=n)\n",
    "    result= cross_val_score(knn, test_x, test_y, cv=10)\n",
    "    accuracy.append(result.mean())\n",
    "    if (result.mean() > temp):\n",
    "        temp=result.mean()\n",
    "        k=n\n",
    "    \n",
    "    \n",
    "plt.figure(figsize=(10,8))\n",
    "axes = plt.axes()\n",
    "axes.grid()\n",
    "plt.plot(range(1,50), accuracy, color='blue', linestyle=':',\n",
    "        marker='o', markerfacecolor='red',markersize=10 )\n",
    "plt.title('accuracy vs K-value')\n",
    "plt.xlabel('K-value')\n",
    "plt.xticks(range(0,50,2))\n",
    "plt.ylabel('accuracy')\n",
    "\n",
    "print('Best K-value: {}'.format(k))"
   ]
  },
  {
   "cell_type": "code",
   "execution_count": null,
   "metadata": {
    "execution": {
     "iopub.execute_input": "2023-01-08T14:43:53.040899Z",
     "iopub.status.busy": "2023-01-08T14:43:53.040222Z",
     "iopub.status.idle": "2023-01-08T14:43:53.175306Z",
     "shell.execute_reply": "2023-01-08T14:43:53.174467Z",
     "shell.execute_reply.started": "2023-01-08T14:43:53.040865Z"
    },
    "trusted": true
   },
   "outputs": [],
   "source": [
    "knn=KNeighborsRegressor(n_neighbors=3)\n",
    "knn.fit(train_x,train_y)\n",
    "y_pred = knn.predict(test_x)\n",
    "\n",
    "knn_score = cross_val_score(knn,test_x,test_y,cv=10)\n",
    "print('Cross Val Score: ', knn_score.mean())\n",
    "\n",
    "knn_RMSE = np.sqrt(mean_squared_error(test_y, y_pred))\n",
    "print('Root Mean Squared Error:', knn_RMSE)\n",
    "\n"
   ]
  },
  {
   "cell_type": "markdown",
   "metadata": {},
   "source": [
    "## 5. SVM Regressor"
   ]
  },
  {
   "cell_type": "code",
   "execution_count": null,
   "metadata": {
    "execution": {
     "iopub.execute_input": "2023-01-08T14:43:53.177193Z",
     "iopub.status.busy": "2023-01-08T14:43:53.176856Z",
     "iopub.status.idle": "2023-01-08T14:43:56.57057Z",
     "shell.execute_reply": "2023-01-08T14:43:56.569076Z",
     "shell.execute_reply.started": "2023-01-08T14:43:53.177161Z"
    },
    "trusted": true
   },
   "outputs": [],
   "source": [
    "from sklearn.svm import SVR\n",
    "\n",
    "svm_regressor = SVR()\n",
    "parameters = {'kernel':['poly','rbf'] , 'degree':[2,3,4,5] }\n",
    "svm_reg = GridSearchCV(svm_regressor,parameters,cv=kf)\n",
    "\n",
    "svm_reg.fit(train_x,train_y)\n",
    "print('Best Parameters: {}'.format(svm_reg.best_params_))\n",
    "print('Best SCore: {}'.format(svm_reg.best_score_))"
   ]
  },
  {
   "cell_type": "code",
   "execution_count": null,
   "metadata": {
    "execution": {
     "iopub.execute_input": "2023-01-08T14:43:56.572283Z",
     "iopub.status.busy": "2023-01-08T14:43:56.571951Z",
     "iopub.status.idle": "2023-01-08T14:43:56.746648Z",
     "shell.execute_reply": "2023-01-08T14:43:56.745535Z",
     "shell.execute_reply.started": "2023-01-08T14:43:56.572253Z"
    },
    "trusted": true
   },
   "outputs": [],
   "source": [
    "svm_regressor = SVR(kernel='rbf', degree=2)\n",
    "svm_regressor.fit(train_x,train_y)\n",
    "y_pred = svm_regressor.predict(test_x)\n",
    "\n",
    "SVM_score = cross_val_score(svm_regressor,test_x,test_y,cv=10)\n",
    "print('Cross Val Score: ', SVM_score.mean())\n",
    "\n",
    "SVM_RMSE = np.sqrt(mean_squared_error(test_y, y_pred))\n",
    "print('Root Mean Squared Error:', SVM_RMSE)"
   ]
  },
  {
   "cell_type": "markdown",
   "metadata": {},
   "source": [
    "## 6. Random Forest Regressor"
   ]
  },
  {
   "cell_type": "code",
   "execution_count": null,
   "metadata": {
    "execution": {
     "iopub.execute_input": "2023-01-08T14:43:56.748273Z",
     "iopub.status.busy": "2023-01-08T14:43:56.747938Z",
     "iopub.status.idle": "2023-01-08T14:43:56.753965Z",
     "shell.execute_reply": "2023-01-08T14:43:56.752748Z",
     "shell.execute_reply.started": "2023-01-08T14:43:56.748244Z"
    },
    "trusted": true
   },
   "outputs": [],
   "source": [
    "from sklearn.ensemble import RandomForestRegressor\n",
    "from sklearn.model_selection import RandomizedSearchCV\n",
    "\n",
    "rf = RandomForestRegressor()"
   ]
  },
  {
   "cell_type": "code",
   "execution_count": null,
   "metadata": {
    "execution": {
     "iopub.execute_input": "2023-01-08T14:43:56.756155Z",
     "iopub.status.busy": "2023-01-08T14:43:56.755738Z",
     "iopub.status.idle": "2023-01-08T14:43:56.76692Z",
     "shell.execute_reply": "2023-01-08T14:43:56.765827Z",
     "shell.execute_reply.started": "2023-01-08T14:43:56.75612Z"
    },
    "trusted": true
   },
   "outputs": [],
   "source": [
    " #Randomized Search CV\n",
    "\n",
    "# Number of trees in random forest\n",
    "n_estimators = [int(x) for x in np.linspace(start = 100, stop = 1200, num = 12)] \n",
    "\n",
    "# Number of features to consider at every split\n",
    "max_features = ['auto', 'sqrt']\n",
    "\n",
    "# Maximum number of levels in tree\n",
    "max_depth = [int(x) for x in np.linspace(5, 30, num = 6)]\n",
    "# max_depth.append(None)\n",
    "\n",
    "# Minimum number of samples required to split a node\n",
    "min_samples_split = [2, 5, 10, 15, 100]\n",
    "\n",
    "# Minimum number of samples required at each leaf node\n",
    "min_samples_leaf = [1, 2, 5, 10]\n",
    "# Method of selecting samples for training each tree\n",
    "# bootstrap = [True, False]\n",
    "\n",
    "random_grid = {'n_estimators': n_estimators,\n",
    "               'max_features': max_features,\n",
    "               'max_depth': max_depth,\n",
    "               'min_samples_split': min_samples_split,\n",
    "               'min_samples_leaf': min_samples_leaf}"
   ]
  },
  {
   "cell_type": "code",
   "execution_count": null,
   "metadata": {
    "execution": {
     "iopub.execute_input": "2023-01-08T14:43:56.769167Z",
     "iopub.status.busy": "2023-01-08T14:43:56.768311Z",
     "iopub.status.idle": "2023-01-08T14:43:56.783202Z",
     "shell.execute_reply": "2023-01-08T14:43:56.782105Z",
     "shell.execute_reply.started": "2023-01-08T14:43:56.769118Z"
    },
    "trusted": true
   },
   "outputs": [],
   "source": [
    "# rf_random = RandomizedSearchCV(estimator = rf, param_distributions = random_grid,\n",
    "#                                n_iter = 100, cv = 5, verbose=2, random_state=42, n_jobs = 1)\n",
    "\n",
    "# rf_random.fit(train_x,train_y)"
   ]
  },
  {
   "cell_type": "code",
   "execution_count": null,
   "metadata": {
    "execution": {
     "iopub.execute_input": "2023-01-08T14:43:56.785884Z",
     "iopub.status.busy": "2023-01-08T14:43:56.784743Z",
     "iopub.status.idle": "2023-01-08T14:43:56.792703Z",
     "shell.execute_reply": "2023-01-08T14:43:56.791822Z",
     "shell.execute_reply.started": "2023-01-08T14:43:56.785726Z"
    },
    "trusted": true
   },
   "outputs": [],
   "source": [
    "# print(rf_random.best_params_)\n",
    "# print('score: {}' .format(rf_random.best_score_))"
   ]
  },
  {
   "cell_type": "markdown",
   "metadata": {},
   "source": [
    "#### Best parameters for Random forest are :\n",
    "* 'n_estimators': 600, 'min_samples_split': 5, 'min_samples_leaf': 1, 'max_features': 'sqrt', 'max_depth': 20\n"
   ]
  },
  {
   "cell_type": "code",
   "execution_count": null,
   "metadata": {
    "execution": {
     "iopub.execute_input": "2023-01-08T14:43:56.79508Z",
     "iopub.status.busy": "2023-01-08T14:43:56.79399Z",
     "iopub.status.idle": "2023-01-08T14:44:06.035416Z",
     "shell.execute_reply": "2023-01-08T14:44:06.034335Z",
     "shell.execute_reply.started": "2023-01-08T14:43:56.795044Z"
    },
    "trusted": true
   },
   "outputs": [],
   "source": [
    "rf = RandomForestRegressor(n_estimators=500, min_samples_split=2, \n",
    "                           min_samples_leaf=1, max_features='sqrt', \n",
    "                           max_depth=15)\n",
    "rf.fit(train_x,train_y)\n",
    "y_pred = rf.predict(test_x)\n",
    "\n",
    "RF_score = cross_val_score(rf,test_x,test_y,cv=10)\n",
    "print('Cross Val Score: ', RF_score.mean())\n",
    "\n",
    "RF_RMSE = np.sqrt(mean_squared_error(test_y, y_pred))\n",
    "print('Root Mean Squared Error:', RF_RMSE)"
   ]
  },
  {
   "cell_type": "code",
   "execution_count": null,
   "metadata": {
    "execution": {
     "iopub.execute_input": "2023-01-08T14:44:06.039383Z",
     "iopub.status.busy": "2023-01-08T14:44:06.03708Z",
     "iopub.status.idle": "2023-01-08T14:44:06.047585Z",
     "shell.execute_reply": "2023-01-08T14:44:06.046402Z",
     "shell.execute_reply.started": "2023-01-08T14:44:06.039345Z"
    },
    "trusted": true
   },
   "outputs": [],
   "source": [
    "print('Linear Regression score: {} , RMSE: {}'.format(linear_score.mean(),linear_RMSE))\n",
    "print('Ridge Regression score: {} , RMSE: {}'.format(ridge_score.mean(),ridge_RMSE))\n",
    "print('Lasso Regression score: {} , RMSE: {}'.format(lasso_score.mean() ,lasso_RMSE))\n",
    "print('KNN Regression score: {} , RMSE: {}'.format(knn_score.mean() ,knn_RMSE))\n",
    "print('SVM Regression score: {} , RMSE: {}'.format(SVM_score.mean() ,SVM_RMSE))\n",
    "print('Random Forest score: {} , RMSE: {}'.format(RF_score.mean() ,RF_RMSE))"
   ]
  }
 ],
 "metadata": {
  "language_info": {
   "name": "python"
  },
  "orig_nbformat": 4
 },
 "nbformat": 4,
 "nbformat_minor": 2
}
